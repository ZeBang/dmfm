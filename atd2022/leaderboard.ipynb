{
 "cells": [
  {
   "cell_type": "markdown",
   "id": "496dce91-0456-4db1-9468-c16d834e6aa3",
   "metadata": {},
   "source": [
    "# Leaderboard\n",
    "\n",
    "Create a leaderboard.html file from a directory of prediction files."
   ]
  },
  {
   "cell_type": "code",
   "execution_count": null,
   "id": "c3a62205-e559-4521-96a9-7433b7f69f9d",
   "metadata": {},
   "outputs": [],
   "source": [
    "from pathlib import Path\n",
    "\n",
    "import atd2022\n",
    "import atd2022.leaderboard\n",
    "import atd2022admin"
   ]
  },
  {
   "cell_type": "markdown",
   "id": "a851850e-927c-445e-8c96-7bde89822f84",
   "metadata": {},
   "source": [
    "# Read in the truth/predictions\n",
    "\n",
    "Predictions should be labelled by `teamname.csv` and stored in a single directory (here, `out/`)."
   ]
  },
  {
   "cell_type": "code",
   "execution_count": null,
   "id": "76fc187e-cdee-41bc-8c85-33472cda7f61",
   "metadata": {},
   "outputs": [],
   "source": [
    "results_dir = Path(\"out-sprint4\")\n",
    "truth = atd2022.io.read_csv(atd2022admin.HOLDOUT_PATH)\n",
    "predictions = atd2022.leaderboard.read_all_predictions(results_dir)"
   ]
  },
  {
   "cell_type": "markdown",
   "id": "72b03c13-a79b-4101-ad06-6dbd14a646af",
   "metadata": {},
   "source": [
    "# Compute Metrics"
   ]
  },
  {
   "cell_type": "code",
   "execution_count": null,
   "id": "53180bea-229e-4b1d-b2e2-f079faa66a52",
   "metadata": {},
   "outputs": [],
   "source": [
    "metrics = atd2022.leaderboard.make_avg_metrics_table(truth, predictions)\n",
    "raw_metrics = atd2022.leaderboard.make_raw_metrics_table(truth, predictions)\n",
    "metrics = metrics.join(atd2022.leaderboard.column_wins(raw_metrics))\n",
    "metrics_by_code = atd2022.leaderboard.compute_metrics_by_code(truth, predictions)\n",
    "metrics_n = atd2022.leaderboard.compute_nstep_metrics(truth, predictions)"
   ]
  },
  {
   "cell_type": "markdown",
   "id": "0acd20a2-da4f-4de6-b87f-83706596f6c9",
   "metadata": {},
   "source": [
    "# Create Primary Site"
   ]
  },
  {
   "cell_type": "code",
   "execution_count": null,
   "id": "4774f805-20e5-4fe8-9b78-0412391059ca",
   "metadata": {},
   "outputs": [],
   "source": [
    "site = atd2022.leaderboard.create_site(metrics, metrics_n)\n",
    "site.save(\"docs/_static/sprint4_leaderboard.html\")\n",
    "site"
   ]
  },
  {
   "cell_type": "markdown",
   "id": "049ac1a6-16b9-4ca6-9dba-9170f9b0b9d0",
   "metadata": {},
   "source": [
    "# Get Event Code Ranking Truth and Predictions"
   ]
  },
  {
   "cell_type": "code",
   "execution_count": null,
   "id": "f46ff389-de70-4ed5-98ba-0867f10357bc",
   "metadata": {},
   "outputs": [],
   "source": [
    "import pandas as pd\n",
    "\n",
    "event_rank_preds = pd.read_csv(\n",
    "    \"docs/_static/predictability_rankings.csv\", index_col=0, dtype=str\n",
    ")\n",
    "event_rank_true = pd.Series(\n",
    "    metrics_by_code.median().sort_values().index.tolist(),\n",
    "    name=\"Truth\",\n",
    ")"
   ]
  },
  {
   "cell_type": "markdown",
   "id": "893f0842-2aac-4c73-878a-55a4077b8fae",
   "metadata": {},
   "source": [
    "# Create Predictability Site"
   ]
  },
  {
   "cell_type": "code",
   "execution_count": null,
   "id": "5b0256f1-8e78-43cf-ad45-1670cc001806",
   "metadata": {},
   "outputs": [],
   "source": [
    "predictability_site = atd2022.leaderboard.create_predictability_site(\n",
    "    metrics_by_code, event_rank_true, event_rank_preds\n",
    ")\n",
    "predictability_site.save(\"docs/_static/predictability_leaderboard.html\")\n",
    "predictability_site"
   ]
  },
  {
   "cell_type": "markdown",
   "id": "af0b053c-f9c9-4b2a-aba2-47f5f579d2bf",
   "metadata": {},
   "source": [
    "# "
   ]
  }
 ],
 "metadata": {
  "kernelspec": {
   "display_name": "atd2022",
   "language": "python",
   "name": "atd2022"
  },
  "language_info": {
   "codemirror_mode": {
    "name": "ipython",
    "version": 3
   },
   "file_extension": ".py",
   "mimetype": "text/x-python",
   "name": "python",
   "nbconvert_exporter": "python",
   "pygments_lexer": "ipython3"
  }
 },
 "nbformat": 4,
 "nbformat_minor": 5
}
